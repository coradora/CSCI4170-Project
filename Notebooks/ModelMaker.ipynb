{
 "cells": [
  {
   "cell_type": "markdown",
   "metadata": {
    "id": "pWZdFlA93IqU"
   },
   "source": [
    "# Template Notebook"
   ]
  },
  {
   "cell_type": "code",
   "execution_count": 3,
   "metadata": {},
   "outputs": [],
   "source": [
    "import numpy as np\n",
    "import pandas as pd\n",
    "import os\n",
    "from tflite_model_maker import configs\n",
    "from tflite_model_maker import ExportFormat\n",
    "from tflite_model_maker import model_spec\n",
    "from tflite_model_maker import text_classifier\n",
    "from tflite_model_maker.text_classifier import DataLoader\n",
    "\n",
    "import tensorflow as tf\n",
    "assert tf.__version__.startswith('2')\n",
    "tf.get_logger().setLevel('ERROR')"
   ]
  },
  {
   "cell_type": "code",
   "execution_count": 4,
   "metadata": {},
   "outputs": [
    {
     "name": "stdout",
     "output_type": "stream",
     "text": [
      "Mean length: 15.494436468054559, Median length: 12.0\n"
     ]
    }
   ],
   "source": [
    "spec = model_spec.get('average_word_vec')\n",
    "spec.num_words = 30000\n",
    "spec.seq_len = 16\n",
    "spec.wordvec_dim = 100\n",
    "\n",
    "# Find optimal sequence length\n",
    "text_lengths = data_df['v2'].apply(lambda x: len(x.split()))\n",
    "print(f\"Mean length: {text_lengths.mean()}, Median length: {text_lengths.median()}\")\n",
    "\n"
   ]
  },
  {
   "cell_type": "code",
   "execution_count": 5,
   "metadata": {},
   "outputs": [
    {
     "name": "stderr",
     "output_type": "stream",
     "text": [
      "2024-04-15 09:30:51.362188: E tensorflow/stream_executor/cuda/cuda_driver.cc:271] failed call to cuInit: CUDA_ERROR_UNKNOWN: unknown error\n",
      "2024-04-15 09:30:51.362224: I tensorflow/stream_executor/cuda/cuda_diagnostics.cc:169] retrieving CUDA diagnostic information for host: dewgong\n",
      "2024-04-15 09:30:51.362230: I tensorflow/stream_executor/cuda/cuda_diagnostics.cc:176] hostname: dewgong\n",
      "2024-04-15 09:30:51.362765: I tensorflow/stream_executor/cuda/cuda_diagnostics.cc:200] libcuda reported version is: 550.67.0\n",
      "2024-04-15 09:30:51.362785: I tensorflow/stream_executor/cuda/cuda_diagnostics.cc:204] kernel reported version is: 550.67.0\n",
      "2024-04-15 09:30:51.362789: I tensorflow/stream_executor/cuda/cuda_diagnostics.cc:310] kernel version seems to match DSO: 550.67.0\n",
      "2024-04-15 09:30:51.363570: I tensorflow/core/platform/cpu_feature_guard.cc:151] This TensorFlow binary is optimized with oneAPI Deep Neural Network Library (oneDNN) to use the following CPU instructions in performance-critical operations:  AVX2 FMA\n",
      "To enable them in other operations, rebuild TensorFlow with the appropriate compiler flags.\n"
     ]
    }
   ],
   "source": [
    "# Load data using the DataLoader\n",
    "data = DataLoader.from_csv(\n",
    "    filename='../Data/spam_utf8.csv',  # Use the UTF-8 version of the file\n",
    "    text_column='v2',  \n",
    "    label_column='v1', \n",
    "    model_spec=spec,\n",
    "    delimiter=',',\n",
    "    shuffle=True,\n",
    "    is_training=True\n",
    ")\n",
    "\n",
    "# Split the data\n",
    "train_data, test_data = data.split(0.9)\n"
   ]
  },
  {
   "cell_type": "code",
   "execution_count": 6,
   "metadata": {},
   "outputs": [
    {
     "name": "stdout",
     "output_type": "stream",
     "text": [
      "156/156 [==============================] - 1s 7ms/step - loss: 0.2214 - accuracy: 0.9211 - val_loss: 0.0796 - val_accuracy: 0.9803\n",
      "Epoch 2/2\n",
      "156/156 [==============================] - 0s 3ms/step - loss: 0.0604 - accuracy: 0.9800 - val_loss: 0.0540 - val_accuracy: 0.9857\n",
      "Epoch 3/3\n",
      "156/156 [==============================] - 0s 2ms/step - loss: 0.0398 - accuracy: 0.9882 - val_loss: 0.0508 - val_accuracy: 0.9910\n",
      "Epoch 4/4\n",
      "156/156 [==============================] - 0s 2ms/step - loss: 0.0303 - accuracy: 0.9910 - val_loss: 0.0522 - val_accuracy: 0.9928\n",
      "Epoch 5/5\n",
      "156/156 [==============================] - 0s 2ms/step - loss: 0.0244 - accuracy: 0.9932 - val_loss: 0.0560 - val_accuracy: 0.9928\n"
     ]
    }
   ],
   "source": [
    "# Build the model\n",
    "model = text_classifier.create(train_data, model_spec=spec, epochs=5, \n",
    "                               validation_data=test_data)"
   ]
  },
  {
   "cell_type": "code",
   "execution_count": 7,
   "metadata": {},
   "outputs": [
    {
     "name": "stderr",
     "output_type": "stream",
     "text": [
      "2024-04-15 09:30:57.857066: W tensorflow/python/util/util.cc:368] Sets are not currently considered sequences, but this may change in the future, so consider avoiding using them.\n",
      "2024-04-15 09:30:58.144378: I tensorflow/core/grappler/devices.cc:66] Number of eligible GPUs (core count >= 8, compute capability >= 0.0): 0\n",
      "2024-04-15 09:30:58.144533: I tensorflow/core/grappler/clusters/single_machine.cc:358] Starting new session\n",
      "2024-04-15 09:30:58.145973: I tensorflow/core/grappler/optimizers/meta_optimizer.cc:1164] Optimization results for grappler item: graph_to_optimize\n",
      "  function_optimizer: function_optimizer did nothing. time = 0.003ms.\n",
      "  function_optimizer: function_optimizer did nothing. time = 0ms.\n",
      "\n",
      "2024-04-15 09:30:58.195424: W tensorflow/compiler/mlir/lite/python/tf_tfl_flatbuffer_helpers.cc:357] Ignored output_format.\n",
      "2024-04-15 09:30:58.195469: W tensorflow/compiler/mlir/lite/python/tf_tfl_flatbuffer_helpers.cc:360] Ignored drop_control_dependency.\n",
      "2024-04-15 09:30:58.214688: I tensorflow/compiler/mlir/lite/flatbuffer_export.cc:1963] Estimated count of arithmetic ops: 0.021 M  ops, equivalently 0.010 M  MACs\n",
      "\n"
     ]
    }
   ],
   "source": [
    "model_dir = '../models'\n",
    "tflite_filename = 'spam.tflite'\n",
    "tflite_path = os.path.join(model_dir, tflite_filename)\n",
    "\n",
    "# Export the model as TensorFlow Lite\n",
    "model.export(export_dir=model_dir, export_format=ExportFormat.TFLITE)\n",
    "\n",
    "# Find the exported .tflite file\n",
    "default_tflite_path = os.path.join(model_dir, 'model.tflite')\n",
    "\n",
    "# Rename the default 'model.tflite' to 'spam.tflite'\n",
    "if os.path.exists(tflite_path):\n",
    "    os.remove(tflite_path)  # Remove if already exists to overwrite\n",
    "os.rename(default_tflite_path, tflite_path)\n"
   ]
  },
  {
   "cell_type": "code",
   "execution_count": null,
   "metadata": {},
   "outputs": [],
   "source": []
  }
 ],
 "metadata": {
  "colab": {
   "collapsed_sections": [],
   "name": "Creating Input for SHAP.ipynb",
   "provenance": []
  },
  "kernelspec": {
   "display_name": "Python 3 (ipykernel)",
   "language": "python",
   "name": "python3"
  },
  "language_info": {
   "codemirror_mode": {
    "name": "ipython",
    "version": 3
   },
   "file_extension": ".py",
   "mimetype": "text/x-python",
   "name": "python",
   "nbconvert_exporter": "python",
   "pygments_lexer": "ipython3",
   "version": "3.9.19"
  }
 },
 "nbformat": 4,
 "nbformat_minor": 4
}
