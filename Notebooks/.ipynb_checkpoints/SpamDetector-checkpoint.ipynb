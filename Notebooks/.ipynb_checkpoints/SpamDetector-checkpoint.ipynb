{
 "cells": [
  {
   "cell_type": "code",
   "execution_count": 33,
   "id": "a48e6ba6-51ec-4e73-998c-1c98126b09ee",
   "metadata": {},
   "outputs": [],
   "source": [
    "import pandas as pd\n",
    "import tensorflow as tf\n",
    "import numpy as np\n",
    "from tensorflow.keras.layers.experimental.preprocessing import TextVectorization\n",
    "\n",
    "# Load your data\n",
    "data_df = pd.read_csv('../Data/spam_utf8.csv')\n",
    "train_texts = data_df['v2'].tolist()\n",
    "\n",
    "# Load the TensorFlow Lite model and allocate tensors\n",
    "interpreter = tf.lite.Interpreter(model_path='../models/spam.tflite')\n",
    "interpreter.allocate_tensors()\n",
    "\n",
    "input_details = interpreter.get_input_details()\n",
    "output_details = interpreter.get_output_details()"
   ]
  },
  {
   "cell_type": "code",
   "execution_count": 27,
   "id": "6e415af9-2c4d-45ef-8e97-5c1f203b4b81",
   "metadata": {},
   "outputs": [],
   "source": [
    "# Define parameters\n",
    "max_features = 2000\n",
    "sequence_length = 16\n",
    "\n",
    "# Create the TextVectorization layer\n",
    "vectorize_layer = TextVectorization(\n",
    "    max_tokens=max_features,\n",
    "    output_mode='int',\n",
    "    output_sequence_length=sequence_length)\n",
    "\n",
    "# Adapt the TextVectorization layer to the train texts\n",
    "vectorize_layer.adapt(train_texts)\n",
    "\n",
    "def preprocess_text(text):\n",
    "    text = tf.expand_dims(text, -1)  # Reshape text to fit the vectorization layer input\n",
    "    processed_text = vectorize_layer(text)\n",
    "    return np.array(processed_text, dtype=np.int32)  # Convert to numpy array with type INT32\n"
   ]
  },
  {
   "cell_type": "code",
   "execution_count": 32,
   "id": "59567d01-ba3c-45fc-a00a-3180b2ba4473",
   "metadata": {},
   "outputs": [
    {
     "name": "stdout",
     "output_type": "stream",
     "text": [
      "Non Spam Example: \n",
      "Message: How’s everything going? Mom mentioned you were feeling under the weather.\n",
      "Probabilities: Not Spam = 0.99769, Spam = 0.00231\n",
      "Is Spam: False\n",
      "\n",
      "Spam Example: \n",
      "Message: Warning!!! You have three viruses on your device! Click here immediately for free virus removal: http://malware-site.com\n",
      "Probabilities: Not Spam = 0.00221, Spam = 0.99779\n",
      "Is Spam: True\n",
      "\n"
     ]
    }
   ],
   "source": [
    "def spam_detection(message, model_interpreter):\n",
    "    try:\n",
    "        processed_message = preprocess_text(message)\n",
    "        model_interpreter.set_tensor(input_details[0]['index'], processed_message)\n",
    "        model_interpreter.invoke()\n",
    "        output_data = model_interpreter.get_tensor(output_details[0]['index'])\n",
    "        probabilities = output_data[0]\n",
    "        is_spam = probabilities[1] > 0.5\n",
    "        print(f\"Message: {message}\\nProbabilities: Not Spam = {probabilities[0]:.5f}, Spam = {probabilities[1]:.5f}\\nIs Spam: {is_spam}\\n\")\n",
    "    except Exception as e:\n",
    "        print(f\"An error occurred: {str(e)}\")\n",
    "non_spam_message = \"How’s everything going? Mom mentioned you were feeling under the weather.\"\n",
    "print(\"Non Spam Example: \")\n",
    "spam_detection(non_spam_message, interpreter)\n",
    "\n",
    "print(\"Spam Example: \")\n",
    "spam_message = \"Warning!!! You have three viruses on your device! Click here immediately for free virus removal: http://malware-site.com\"\n",
    "spam_detection(spam_message, interpreter)"
   ]
  },
  {
   "cell_type": "code",
   "execution_count": null,
   "id": "97b3f21f-8431-44de-ba7a-31c66a0dc1bc",
   "metadata": {},
   "outputs": [],
   "source": []
  }
 ],
 "metadata": {
  "kernelspec": {
   "display_name": "Python 3 (ipykernel)",
   "language": "python",
   "name": "python3"
  },
  "language_info": {
   "codemirror_mode": {
    "name": "ipython",
    "version": 3
   },
   "file_extension": ".py",
   "mimetype": "text/x-python",
   "name": "python",
   "nbconvert_exporter": "python",
   "pygments_lexer": "ipython3",
   "version": "3.9.19"
  }
 },
 "nbformat": 4,
 "nbformat_minor": 5
}
