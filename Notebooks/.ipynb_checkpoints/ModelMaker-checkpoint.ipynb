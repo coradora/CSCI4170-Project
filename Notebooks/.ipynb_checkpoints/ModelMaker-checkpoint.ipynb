{
 "cells": [
  {
   "cell_type": "markdown",
   "metadata": {
    "id": "pWZdFlA93IqU"
   },
   "source": [
    "# Template Notebook"
   ]
  },
  {
   "cell_type": "code",
   "execution_count": 1,
   "metadata": {},
   "outputs": [
    {
     "name": "stderr",
     "output_type": "stream",
     "text": [
      "2024-04-15 09:16:23.493210: W tensorflow/stream_executor/platform/default/dso_loader.cc:64] Could not load dynamic library 'libcudart.so.11.0'; dlerror: libcudart.so.11.0: cannot open shared object file: No such file or directory\n",
      "2024-04-15 09:16:23.493236: I tensorflow/stream_executor/cuda/cudart_stub.cc:29] Ignore above cudart dlerror if you do not have a GPU set up on your machine.\n",
      "/home/cora/git/SHAP-Containerization/venv/lib/python3.9/site-packages/tensorflow_addons/utils/tfa_eol_msg.py:23: UserWarning: \n",
      "\n",
      "TensorFlow Addons (TFA) has ended development and introduction of new features.\n",
      "TFA has entered a minimal maintenance and release mode until a planned end of life in May 2024.\n",
      "Please modify downstream libraries to take dependencies from other repositories in our TensorFlow community (e.g. Keras, Keras-CV, and Keras-NLP). \n",
      "\n",
      "For more information see: https://github.com/tensorflow/addons/issues/2807 \n",
      "\n",
      "  warnings.warn(\n",
      "/home/cora/git/SHAP-Containerization/venv/lib/python3.9/site-packages/tensorflow_addons/utils/ensure_tf_install.py:53: UserWarning: Tensorflow Addons supports using Python ops for all Tensorflow versions above or equal to 2.13.0 and strictly below 2.16.0 (nightly versions are not supported). \n",
      " The versions of TensorFlow you are currently using is 2.8.4 and is not supported. \n",
      "Some things might work, some things might not.\n",
      "If you were to encounter a bug, do not file an issue.\n",
      "If you want to make sure you're using a tested and supported configuration, either change the TensorFlow version or the TensorFlow Addons's version. \n",
      "You can find the compatibility matrix in TensorFlow Addon's readme:\n",
      "https://github.com/tensorflow/addons\n",
      "  warnings.warn(\n"
     ]
    }
   ],
   "source": [
    "import numpy as np\n",
    "import pandas as pd\n",
    "import os\n",
    "from tflite_model_maker import configs\n",
    "from tflite_model_maker import ExportFormat\n",
    "from tflite_model_maker import model_spec\n",
    "from tflite_model_maker import text_classifier\n",
    "from tflite_model_maker.text_classifier import DataLoader\n",
    "\n",
    "import tensorflow as tf\n",
    "assert tf.__version__.startswith('2')\n",
    "tf.get_logger().setLevel('ERROR')"
   ]
  },
  {
   "cell_type": "code",
   "execution_count": 3,
   "metadata": {},
   "outputs": [
    {
     "name": "stdout",
     "output_type": "stream",
     "text": [
      "Mean length: 15.494436468054559, Median length: 12.0\n"
     ]
    }
   ],
   "source": [
    "spec = model_spec.get('average_word_vec')\n",
    "spec.num_words = 30000\n",
    "spec.seq_len = 16\n",
    "spec.wordvec_dim = 100\n",
    "\n",
    "# Find optimal sequence length\n",
    "text_lengths = data_df['v2'].apply(lambda x: len(x.split()))\n",
    "print(f\"Mean length: {text_lengths.mean()}, Median length: {text_lengths.median()}\")\n",
    "\n"
   ]
  },
  {
   "cell_type": "code",
   "execution_count": 4,
   "metadata": {},
   "outputs": [
    {
     "name": "stderr",
     "output_type": "stream",
     "text": [
      "2024-04-15 09:16:40.332488: E tensorflow/stream_executor/cuda/cuda_driver.cc:271] failed call to cuInit: CUDA_ERROR_UNKNOWN: unknown error\n",
      "2024-04-15 09:16:40.332539: I tensorflow/stream_executor/cuda/cuda_diagnostics.cc:169] retrieving CUDA diagnostic information for host: dewgong\n",
      "2024-04-15 09:16:40.332550: I tensorflow/stream_executor/cuda/cuda_diagnostics.cc:176] hostname: dewgong\n",
      "2024-04-15 09:16:40.333093: I tensorflow/stream_executor/cuda/cuda_diagnostics.cc:200] libcuda reported version is: 550.67.0\n",
      "2024-04-15 09:16:40.333116: I tensorflow/stream_executor/cuda/cuda_diagnostics.cc:204] kernel reported version is: 550.67.0\n",
      "2024-04-15 09:16:40.333121: I tensorflow/stream_executor/cuda/cuda_diagnostics.cc:310] kernel version seems to match DSO: 550.67.0\n",
      "2024-04-15 09:16:40.334009: I tensorflow/core/platform/cpu_feature_guard.cc:151] This TensorFlow binary is optimized with oneAPI Deep Neural Network Library (oneDNN) to use the following CPU instructions in performance-critical operations:  AVX2 FMA\n",
      "To enable them in other operations, rebuild TensorFlow with the appropriate compiler flags.\n"
     ]
    }
   ],
   "source": [
    "# Load data using the DataLoader\n",
    "data = DataLoader.from_csv(\n",
    "    filename='../Data/spam_utf8.csv',  # Use the UTF-8 version of the file\n",
    "    text_column='v2',  \n",
    "    label_column='v1', \n",
    "    model_spec=spec,\n",
    "    delimiter=',',\n",
    "    shuffle=True,\n",
    "    is_training=True\n",
    ")\n",
    "\n",
    "# Split the data\n",
    "train_data, test_data = data.split(0.9)\n"
   ]
  },
  {
   "cell_type": "code",
   "execution_count": 9,
   "metadata": {},
   "outputs": [
    {
     "name": "stdout",
     "output_type": "stream",
     "text": [
      "156/156 [==============================] - 1s 5ms/step - loss: 0.2107 - accuracy: 0.9247 - val_loss: 0.0794 - val_accuracy: 0.9821\n",
      "Epoch 2/2\n",
      "156/156 [==============================] - 1s 3ms/step - loss: 0.0614 - accuracy: 0.9814 - val_loss: 0.0476 - val_accuracy: 0.9892\n",
      "Epoch 3/3\n",
      "156/156 [==============================] - 0s 2ms/step - loss: 0.0423 - accuracy: 0.9874 - val_loss: 0.0378 - val_accuracy: 0.9892\n",
      "Epoch 4/4\n",
      "156/156 [==============================] - 0s 2ms/step - loss: 0.0327 - accuracy: 0.9916 - val_loss: 0.0336 - val_accuracy: 0.9892\n",
      "Epoch 5/5\n",
      "156/156 [==============================] - 0s 3ms/step - loss: 0.0268 - accuracy: 0.9924 - val_loss: 0.0322 - val_accuracy: 0.9892\n"
     ]
    }
   ],
   "source": [
    "# Build the model\n",
    "model = text_classifier.create(train_data, model_spec=spec, epochs=5, \n",
    "                               validation_data=test_data)"
   ]
  },
  {
   "cell_type": "code",
   "execution_count": 12,
   "metadata": {},
   "outputs": [
    {
     "name": "stderr",
     "output_type": "stream",
     "text": [
      "2024-04-15 09:19:34.594199: I tensorflow/core/grappler/devices.cc:66] Number of eligible GPUs (core count >= 8, compute capability >= 0.0): 0\n",
      "2024-04-15 09:19:34.594298: I tensorflow/core/grappler/clusters/single_machine.cc:358] Starting new session\n",
      "2024-04-15 09:19:34.595506: I tensorflow/core/grappler/optimizers/meta_optimizer.cc:1164] Optimization results for grappler item: graph_to_optimize\n",
      "  function_optimizer: function_optimizer did nothing. time = 0.003ms.\n",
      "  function_optimizer: function_optimizer did nothing. time = 0.001ms.\n",
      "\n",
      "2024-04-15 09:19:34.629007: W tensorflow/compiler/mlir/lite/python/tf_tfl_flatbuffer_helpers.cc:357] Ignored output_format.\n",
      "2024-04-15 09:19:34.629040: W tensorflow/compiler/mlir/lite/python/tf_tfl_flatbuffer_helpers.cc:360] Ignored drop_control_dependency.\n",
      "2024-04-15 09:19:34.641694: I tensorflow/compiler/mlir/lite/flatbuffer_export.cc:1963] Estimated count of arithmetic ops: 0.021 M  ops, equivalently 0.010 M  MACs\n",
      "\n"
     ]
    }
   ],
   "source": [
    "model_dir = '../models'\n",
    "tflite_filename = 'spam.tflite'\n",
    "tflite_path = os.path.join(model_dir, tflite_filename)\n",
    "\n",
    "# Export the model as TensorFlow Lite\n",
    "model.export(export_dir=model_dir, export_format=ExportFormat.TFLITE)\n",
    "\n",
    "# Find the exported .tflite file (default might be 'model.tflite')\n",
    "default_tflite_path = os.path.join(model_dir, 'model.tflite')\n",
    "\n",
    "# Rename the default 'model.tflite' to 'spam.tflite', overwriting if necessary\n",
    "if os.path.exists(tflite_path):\n",
    "    os.remove(tflite_path)  # Remove if already exists to overwrite\n",
    "os.rename(default_tflite_path, tflite_path)\n"
   ]
  },
  {
   "cell_type": "code",
   "execution_count": null,
   "metadata": {},
   "outputs": [],
   "source": []
  }
 ],
 "metadata": {
  "colab": {
   "collapsed_sections": [],
   "name": "Creating Input for SHAP.ipynb",
   "provenance": []
  },
  "kernelspec": {
   "display_name": "Python 3 (ipykernel)",
   "language": "python",
   "name": "python3"
  },
  "language_info": {
   "codemirror_mode": {
    "name": "ipython",
    "version": 3
   },
   "file_extension": ".py",
   "mimetype": "text/x-python",
   "name": "python",
   "nbconvert_exporter": "python",
   "pygments_lexer": "ipython3",
   "version": "3.9.19"
  }
 },
 "nbformat": 4,
 "nbformat_minor": 4
}
